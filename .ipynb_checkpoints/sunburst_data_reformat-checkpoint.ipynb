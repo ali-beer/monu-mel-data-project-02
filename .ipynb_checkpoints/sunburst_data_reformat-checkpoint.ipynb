{
 "cells": [
  {
   "cell_type": "code",
   "execution_count": 1,
   "metadata": {},
   "outputs": [],
   "source": [
    "import re\n",
    "import json"
   ]
  },
  {
   "cell_type": "code",
   "execution_count": 2,
   "metadata": {},
   "outputs": [],
   "source": [
    "with open('data/ibra_bioregions.csv') as opener:\n",
    "    data = opener.readlines()\n",
    "    header = data[0].strip().split(',')\n",
    "    data = data[1:]\n",
    "    # too ugly\n",
    "    data = [re.sub(r'(\" \\d+)\\,', r'\\1', i).strip() for i in data]\n",
    "    data = [re.sub(r'(\" \\d+)\\,', r'\\1', i) for i in data]\n",
    "    data = [re.sub(r'(\" \\d+)\\,', r'\\1', i) for i in data]\n",
    "    data = [re.sub(r'\"', r'', i) for i in data]\n",
    "    data_ungroup = []\n",
    "    for d in data:\n",
    "        values = d.split(',')\n",
    "        if values[2] != '-':\n",
    "            first = values[:2]\n",
    "            last = [float(j) for j in values[-4:]]\n",
    "            states = [s.strip() for s in values[2: -4]] \n",
    "            for state in states:\n",
    "                data_ungroup.append(first + [state] + last)"
   ]
  },
  {
   "cell_type": "code",
   "execution_count": 3,
   "metadata": {},
   "outputs": [],
   "source": [
    "data_groupby_state = dict()\n",
    "for d in data_ungroup:\n",
    "    if d[2] not in data_groupby_state:\n",
    "        data_groupby_state[d[2]] = [d[: 2] + d[3:]]\n",
    "    else:\n",
    "        data_groupby_state[d[2]].append(d[: 2] + d[3:])"
   ]
  },
  {
   "cell_type": "code",
   "execution_count": 5,
   "metadata": {},
   "outputs": [],
   "source": [
    "data_json = {'name': 'flare', 'children': []}\n",
    "\n",
    "for state, values in data_groupby_state.items():\n",
    "    data_json['children'].append({\n",
    "        'name': state,\n",
    "        'children': [\n",
    "            {\n",
    "                'name': v[0], \n",
    "                'children': [\n",
    "                    {\n",
    "                        'name': f'Contribution to NRS(%): {v[-1]}',\n",
    "                        'value': v[-1]//2\n",
    "                    },\n",
    "                    {\n",
    "                        'name': f'IBRA Region Protected(%): {v[-2]}',\n",
    "                        'value': v[-1]//2\n",
    "                    }\n",
    "                ]\n",
    "            } for v in values]\n",
    "    })\n",
    "\n",
    "with open('data.json', 'w') as outfile:\n",
    "    json.dump(data_json, outfile, indent=2)"
   ]
  },
  {
   "cell_type": "code",
   "execution_count": null,
   "metadata": {},
   "outputs": [],
   "source": []
  },
  {
   "cell_type": "code",
   "execution_count": null,
   "metadata": {},
   "outputs": [],
   "source": []
  }
 ],
 "metadata": {
  "kernelspec": {
   "display_name": "Python 3",
   "language": "python",
   "name": "python3"
  },
  "language_info": {
   "codemirror_mode": {
    "name": "ipython",
    "version": 3
   },
   "file_extension": ".py",
   "mimetype": "text/x-python",
   "name": "python",
   "nbconvert_exporter": "python",
   "pygments_lexer": "ipython3",
   "version": "3.8.5"
  }
 },
 "nbformat": 4,
 "nbformat_minor": 4
}
